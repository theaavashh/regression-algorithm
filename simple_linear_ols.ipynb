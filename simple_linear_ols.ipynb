{
 "cells": [
  {
   "cell_type": "code",
   "execution_count": 1,
   "metadata": {},
   "outputs": [],
   "source": [
    "import numpy as np \n",
    "import pandas as pd"
   ]
  },
  {
   "cell_type": "code",
   "execution_count": 2,
   "metadata": {},
   "outputs": [],
   "source": [
    "from sklearn.datasets import make_regression"
   ]
  },
  {
   "cell_type": "code",
   "execution_count": 9,
   "metadata": {},
   "outputs": [],
   "source": [
    "X,y=make_regression(n_samples=30,n_features=1,n_targets=1,random_state=3)"
   ]
  },
  {
   "cell_type": "code",
   "execution_count": null,
   "metadata": {},
   "outputs": [
    {
     "name": "stdout",
     "output_type": "stream",
     "text": [
      "0.8813180422075299\n",
      "-1.1010676301114757\n",
      "1.7095730636529485\n",
      "-0.04381816897592824\n",
      "-0.08274148148245977\n",
      "-1.1850465270201729\n",
      "-0.7129932001120494\n",
      "-0.47721803035950267\n",
      "1.4861483550745902\n",
      "-0.35475897926898675\n",
      "-0.40467741460089085\n",
      "-0.6270006768238473\n",
      "0.23671626722691233\n",
      "-0.76883635031923\n",
      "0.09649746807200862\n",
      "0.6252449661628293\n",
      "1.7886284734303186\n",
      "0.9823674342581601\n",
      "-0.5453599476195304\n",
      "-1.8634927033644908\n",
      "-0.27738820251439905\n",
      "0.8846223804995846\n",
      "-1.3138647533626822\n",
      "-1.0237851399264681\n",
      "-0.20564989942254108\n",
      "-0.1605133631869239\n",
      "-1.5464773155829683\n",
      "0.43650985051198943\n",
      "0.05003364217686021\n",
      "-0.23003072227793905\n"
     ]
    }
   ],
   "source": [
    "from sklearn.model_selection import train_test_split\n",
    "X_train,y_train,X_test,y_test=train_test_split(X,y,test_size=0.20,random_state=5)"
   ]
  }
 ],
 "metadata": {
  "kernelspec": {
   "display_name": "venv",
   "language": "python",
   "name": "python3"
  },
  "language_info": {
   "codemirror_mode": {
    "name": "ipython",
    "version": 3
   },
   "file_extension": ".py",
   "mimetype": "text/x-python",
   "name": "python",
   "nbconvert_exporter": "python",
   "pygments_lexer": "ipython3",
   "version": "3.12.0"
  }
 },
 "nbformat": 4,
 "nbformat_minor": 2
}
